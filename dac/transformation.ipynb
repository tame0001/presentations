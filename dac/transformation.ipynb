{
 "cells": [
  {
   "cell_type": "markdown",
   "metadata": {},
   "source": [
    "In the world of computer, everything becomes numbers. \n",
    "That includes images. \n",
    "Computer sees images or pictures as a grid of numbers, or mathematically speaking Matrix. \n",
    "Each cell or element of the matrix represents Pixel of the image. \n",
    "The value of each cell can be \n",
    "- binary (0 or 1) for black & white images\n",
    "- 0 - 255 for 8-bit gray scale images\n",
    "- a set of 3 numbers for RGB images\n",
    "\n",
    "The location or coordinate of each pixel is also important. \n",
    "Each image is 2-D plane, therefore, the coordinate is (x, y).\n",
    "Please note that the origin (0, 0) locates on the top-left corner.\n",
    "This is different than the mathematical number plane.\n",
    "Additional, the number 1 is added as the third element of the coordinate.\n",
    "For example, the pixel (0, 1) will be \n",
    "$$\n",
    "\\begin{pmatrix}\n",
    "0\\\\\n",
    "1 \\\\\n",
    "1\n",
    "\\end{pmatrix}\n",
    "$$\n"
   ]
  },
  {
   "cell_type": "markdown",
   "metadata": {},
   "source": [
    "\n",
    "To move the pixel's location, we multiply a location with a 3x3 matrix. \n",
    "For example,\n",
    "$$\n",
    "\\begin{pmatrix}\n",
    "1 \\\\\n",
    "3 \\\\\n",
    "1\n",
    "\\end{pmatrix}\n",
    "=\n",
    "\\begin{pmatrix}\n",
    "1 & 0 & 1 \\\\\n",
    "0 & 1 & 2 \\\\\n",
    "0 & 0 & 1\n",
    "\\end{pmatrix}\n",
    "\\begin{pmatrix}\n",
    "0 \\\\\n",
    "1 \\\\\n",
    "1\n",
    "\\end{pmatrix}\n",
    "$$\n",
    "\n",
    "The pixel is moved from (0, 1) to (1, 3). "
   ]
  },
  {
   "cell_type": "markdown",
   "metadata": {},
   "source": [
    "That 3x3 dictates how pixels move from one 2-D plane to another 2-D plane. The bottom-right element must be 1 all the time. That leave 8 variable to be resolved. Therefore, we need 8 variables."
   ]
  },
  {
   "cell_type": "markdown",
   "metadata": {},
   "source": [
    "Our target is to move a distorted view of the area to a flat 2-D plane. Then, we can do object detection and locate the robots. As we need 8 equations, we will pick 4 points."
   ]
  },
  {
   "cell_type": "code",
   "execution_count": null,
   "metadata": {},
   "outputs": [],
   "source": [
    "# import libraries \n",
    "import cv2 as cv # computer vision\n",
    "import numpy as np # Numpy for matrix operation\n",
    "from pathlib import Path # file exploration\n",
    "from PIL import Image # image library"
   ]
  },
  {
   "cell_type": "code",
   "execution_count": null,
   "metadata": {},
   "outputs": [],
   "source": [
    "# define an image's path\n",
    "path = Path(\"../img\") / 'cv-example1.jpg'\n",
    "# load the image\n",
    "img = Image.open(path)\n",
    "img # display the image"
   ]
  },
  {
   "cell_type": "code",
   "execution_count": null,
   "metadata": {},
   "outputs": [],
   "source": [
    "# find the 4 corners (from other software)\n",
    "corners = [(266, 51), (544, 144), (56, 250), (380, 405)]"
   ]
  },
  {
   "cell_type": "code",
   "execution_count": null,
   "metadata": {},
   "outputs": [],
   "source": [
    "img = np.array(img) # convert image to numpy (matrix)\n",
    "for point in corners:\n",
    "    img = cv.circle(img, point, 5, (255, 0, 0)) # draw corner for verification\n",
    "Image.fromarray(img) # to display, we need to convert back to PIL's Image format"
   ]
  },
  {
   "cell_type": "code",
   "execution_count": null,
   "metadata": {},
   "outputs": [],
   "source": [
    "# We will map the four selected corners to these new coordinates\n",
    "target = [(0, 0), (300, 0), (0, 300), (300, 300)]"
   ]
  },
  {
   "cell_type": "code",
   "execution_count": null,
   "metadata": {},
   "outputs": [],
   "source": [
    "# open the image again (with no red circle)\n",
    "img = Image.open(path)\n",
    "img = np.array(img)"
   ]
  },
  {
   "cell_type": "code",
   "execution_count": null,
   "metadata": {},
   "outputs": [],
   "source": [
    "# we have 8 equations to find the transformation matrix\n",
    "H = cv.getPerspectiveTransform(\n",
    "    # this function requires float 32 bit data type\n",
    "    np.array(corners, dtype=\"float32\"), np.array(target, dtype=\"float32\")\n",
    ")"
   ]
  },
  {
   "cell_type": "code",
   "execution_count": null,
   "metadata": {},
   "outputs": [],
   "source": [
    "# apply the transformation\n",
    "img_flat = cv.warpPerspective(img, H, (300, 300))\n",
    "Image.fromarray(img_flat)"
   ]
  }
 ],
 "metadata": {
  "kernelspec": {
   "display_name": "asm591",
   "language": "python",
   "name": "python3"
  },
  "language_info": {
   "codemirror_mode": {
    "name": "ipython",
    "version": 3
   },
   "file_extension": ".py",
   "mimetype": "text/x-python",
   "name": "python",
   "nbconvert_exporter": "python",
   "pygments_lexer": "ipython3",
   "version": "3.10.13"
  }
 },
 "nbformat": 4,
 "nbformat_minor": 2
}
